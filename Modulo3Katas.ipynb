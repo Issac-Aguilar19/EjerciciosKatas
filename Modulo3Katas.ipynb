{
 "cells": [
  {
   "cell_type": "code",
   "execution_count": 18,
   "metadata": {},
   "outputs": [
    {
     "name": "stdout",
     "output_type": "stream",
     "text": [
      "Advertencia\n"
     ]
    }
   ],
   "source": [
    "VelocidadAste = 49\n",
    "\n",
    "if VelocidadAste > 25:\n",
    "    print(\"Advertencia\")\n",
    "\n",
    "else:\n",
    "    print(\"No Advertencia\")"
   ]
  },
  {
   "cell_type": "code",
   "execution_count": 24,
   "metadata": {},
   "outputs": [
    {
     "name": "stdout",
     "output_type": "stream",
     "text": [
      "¡Hay uno que se dirige a la tierra ahora a una velocidad de 20 km/s!\n"
     ]
    }
   ],
   "source": [
    "VelocidadAste = 20\n",
    "\n",
    "if VelocidadAste > 25:\n",
    "    print(\"Advertencia\")\n",
    "    \n",
    "elif VelocidadAste == 20:\n",
    "    print(\"¡Hay uno que se dirige a la tierra ahora a una velocidad de 20 km/s!\")\n",
    "\n",
    "else:\n",
    "    print(\"No Advertencia\")"
   ]
  },
  {
   "cell_type": "code",
   "execution_count": 29,
   "metadata": {},
   "outputs": [
    {
     "name": "stdout",
     "output_type": "stream",
     "text": [
      "Nada que ver aqui\n"
     ]
    }
   ],
   "source": [
    "VelocidadAste = 19\n",
    "TamañoAste = 24\n",
    "\n",
    "if VelocidadAste > 25 and TamañoAste > 25:\n",
    "    print(\"Advertencia\")\n",
    "    \n",
    "elif VelocidadAste >= 20:\n",
    "    print(\"¡Hay uno que se dirige a la tierra ahora a una velocidad de 20 km/s!\")\n",
    "\n",
    "elif TamañoAste < 25:\n",
    "    print(\"Nada que ver aqui\")\n",
    "\n",
    "else:\n",
    "    print(\"No Advertencia\")"
   ]
  }
 ],
 "metadata": {
  "interpreter": {
   "hash": "54c855e4ed80c2c240ae63f894bb441b45fd58374e2d8b3f6f280112bc3d98f6"
  },
  "kernelspec": {
   "display_name": "Python 3.10.2 64-bit",
   "language": "python",
   "name": "python3"
  },
  "language_info": {
   "codemirror_mode": {
    "name": "ipython",
    "version": 3
   },
   "file_extension": ".py",
   "mimetype": "text/x-python",
   "name": "python",
   "nbconvert_exporter": "python",
   "pygments_lexer": "ipython3",
   "version": "3.10.2"
  },
  "orig_nbformat": 4
 },
 "nbformat": 4,
 "nbformat_minor": 2
}
