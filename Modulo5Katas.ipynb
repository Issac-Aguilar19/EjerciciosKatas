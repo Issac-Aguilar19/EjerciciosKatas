{
 "cells": [
  {
   "cell_type": "markdown",
   "metadata": {},
   "source": [
    "Ejercicio 1"
   ]
  },
  {
   "cell_type": "code",
   "execution_count": 6,
   "metadata": {},
   "outputs": [
    {
     "name": "stdout",
     "output_type": "stream",
     "text": [
      "628949330\n",
      "390577534\n"
     ]
    }
   ],
   "source": [
    "tierra = 149597870\n",
    "jupiter = 778547200 \n",
    "\n",
    "resultado = tierra - jupiter\n",
    "resultado2 = resultado * 0.621\n",
    "\n",
    "print(abs(resultado))\n",
    "print(abs(round(resultado2)))"
   ]
  },
  {
   "cell_type": "markdown",
   "metadata": {},
   "source": [
    "Ejercicio 2"
   ]
  },
  {
   "cell_type": "code",
   "execution_count": 9,
   "metadata": {},
   "outputs": [
    {
     "name": "stdout",
     "output_type": "stream",
     "text": [
      "628949330\n",
      "390577534\n"
     ]
    }
   ],
   "source": [
    "planeta = input(\"¿Cuál es la distancia del sol?\")\n",
    "planeta2 = input(\"¿Cuál es la distancia del sol?\")\n",
    "\n",
    "converInt = int(planeta)\n",
    "converInt2 = int(planeta2)\n",
    "\n",
    "resultado3 = abs(converInt - converInt2)\n",
    "print(resultado3)\n",
    "\n",
    "resultado4 = round(resultado3 * 0.621)\n",
    "print(resultado4)"
   ]
  }
 ],
 "metadata": {
  "interpreter": {
   "hash": "54c855e4ed80c2c240ae63f894bb441b45fd58374e2d8b3f6f280112bc3d98f6"
  },
  "kernelspec": {
   "display_name": "Python 3.10.2 64-bit",
   "language": "python",
   "name": "python3"
  },
  "language_info": {
   "codemirror_mode": {
    "name": "ipython",
    "version": 3
   },
   "file_extension": ".py",
   "mimetype": "text/x-python",
   "name": "python",
   "nbconvert_exporter": "python",
   "pygments_lexer": "ipython3",
   "version": "3.10.2"
  },
  "orig_nbformat": 4
 },
 "nbformat": 4,
 "nbformat_minor": 2
}
