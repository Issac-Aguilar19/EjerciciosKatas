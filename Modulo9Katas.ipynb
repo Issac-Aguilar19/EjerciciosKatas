{
 "cells": [
  {
   "cell_type": "markdown",
   "metadata": {},
   "source": [
    "Ejercicio 1"
   ]
  },
  {
   "cell_type": "code",
   "execution_count": 2,
   "metadata": {},
   "outputs": [
    {
     "name": "stdout",
     "output_type": "stream",
     "text": [
      "Reporte:\n",
      "    Promedio: 78.33333333333333%\n",
      "    Tanque 1: 80%\n",
      "    Tanque 2: 70%\n",
      "    Tanque 3: 85% \n",
      "    \n",
      "Reporte:\n",
      "    Promedio: 78.0%\n",
      "    Tanque 1: 88%\n",
      "    Tanque 2: 76%\n",
      "    Tanque 3: 70% \n",
      "    \n"
     ]
    }
   ],
   "source": [
    "def informe(tanque1, tanque2, tanque3):\n",
    "    total = (tanque1 + tanque2 + tanque3) / 3\n",
    "    return f\"\"\"Reporte:\n",
    "    Promedio: {total}%\n",
    "    Tanque 1: {tanque1}%\n",
    "    Tanque 2: {tanque2}%\n",
    "    Tanque 3: {tanque3}% \n",
    "    \"\"\"\n",
    "print(informe(80, 70, 85))\n",
    "\n",
    "def promedio(x):\n",
    "    total = sum(x)\n",
    "    total2 = len(x)\n",
    "    return total / total2\n",
    "\n",
    "promedio([80, 85, 81]) \n",
    "\n",
    "def informe2(tanque1, tanque2, tanque3):\n",
    "    return f\"\"\"Reporte:\n",
    "    Promedio: {promedio([tanque1, tanque2, tanque3])}%\n",
    "    Tanque 1: {tanque1}%\n",
    "    Tanque 2: {tanque2}%\n",
    "    Tanque 3: {tanque3}% \n",
    "    \"\"\"\n",
    "\n",
    "print(informe2(88, 76, 70))"
   ]
  },
  {
   "cell_type": "markdown",
   "metadata": {},
   "source": [
    "Ejercicio 2"
   ]
  },
  {
   "cell_type": "code",
   "execution_count": 4,
   "metadata": {},
   "outputs": [
    {
     "name": "stdout",
     "output_type": "stream",
     "text": [
      "\n",
      "    Mision a Marte\n",
      "    Total del viaje: 32 minutos\n",
      "    Total de combustible: 600000 repuesto\n",
      "    \n",
      "\n",
      "    Mision a Marte\n",
      "    Total del viaje: 76 minutos\n",
      "    Total de combustible: 500000\n",
      "    \n",
      "\n",
      "    Mision a Moon\n",
      "    Total del viaje: 74 minutos\n",
      "    Total de combustible: 500000\n",
      "    x Combustible --> 300000 Queda \n",
      "y Combustible --> 200000 Queda \n",
      "\n"
     ]
    }
   ],
   "source": [
    "def mision(prelanzamiento , tiempo, destino, tanqueE, tanque):\n",
    "    return f\"\"\"\n",
    "    Mision a {destino}\n",
    "    Total del viaje: {prelanzamiento  + tiempo} minutos\n",
    "    Total de combustible: {tanqueE + tanque} repuesto\n",
    "    \"\"\"\n",
    "\n",
    "print(mision(9, 23, \"Marte\", 100000, 500000))\n",
    "\n",
    "def mision2(destino, *minutos, **gaso):\n",
    "    return f\"\"\"\n",
    "    Mision a {destino}\n",
    "    Total del viaje: {sum(minutos)} minutos\n",
    "    Total de combustible: {sum(gaso.values())}\n",
    "    \"\"\"\n",
    "\n",
    "print(mision2(\"Marte\", 10, 15, 51, main=300000, external=200000))\n",
    "\n",
    "def mision3(destino, *minutos, **gaso):\n",
    "    x = f\"\"\"\n",
    "    Mision a {destino}\n",
    "    Total del viaje: {sum(minutos)} minutos\n",
    "    Total de combustible: {sum(gaso.values())}\n",
    "    \"\"\"\n",
    "    for tanque, repuesto in gaso.items():\n",
    "        x += f\"{tanque} Combustible --> {repuesto} Queda \\n\"\n",
    "    return x\n",
    "\n",
    "print(mision3(\"Moon\", 8, 11, 55, x=300000, y=200000))"
   ]
  }
 ],
 "metadata": {
  "interpreter": {
   "hash": "54c855e4ed80c2c240ae63f894bb441b45fd58374e2d8b3f6f280112bc3d98f6"
  },
  "kernelspec": {
   "display_name": "Python 3.10.2 64-bit",
   "language": "python",
   "name": "python3"
  },
  "language_info": {
   "codemirror_mode": {
    "name": "ipython",
    "version": 3
   },
   "file_extension": ".py",
   "mimetype": "text/x-python",
   "name": "python",
   "nbconvert_exporter": "python",
   "pygments_lexer": "ipython3",
   "version": "3.10.2"
  },
  "orig_nbformat": 4
 },
 "nbformat": 4,
 "nbformat_minor": 2
}
