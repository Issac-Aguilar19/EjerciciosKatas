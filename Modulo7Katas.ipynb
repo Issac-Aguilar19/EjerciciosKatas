{
 "cells": [
  {
   "cell_type": "markdown",
   "metadata": {},
   "source": [
    "Ejercicio 1"
   ]
  },
  {
   "cell_type": "code",
   "execution_count": 1,
   "metadata": {},
   "outputs": [],
   "source": [
    "NuevosPlanetas = ''\n",
    "Planetas = []\n",
    "\n",
    "while NuevosPlanetas.lower() != 'done':\n",
    "    if NuevosPlanetas:\n",
    "        Planetas.append(NuevosPlanetas)\n",
    "    NuevosPlanetas = input('Ingrese un planeta ')"
   ]
  },
  {
   "cell_type": "markdown",
   "metadata": {},
   "source": [
    "Ejercicio 2"
   ]
  },
  {
   "cell_type": "code",
   "execution_count": 4,
   "metadata": {},
   "outputs": [
    {
     "name": "stdout",
     "output_type": "stream",
     "text": [
      "Marte\n",
      "Tierra\n",
      "Venus\n"
     ]
    }
   ],
   "source": [
    "NuevosPlanetas = ''\n",
    "Planetas = []\n",
    "\n",
    "while NuevosPlanetas.lower() != 'done':\n",
    "    if NuevosPlanetas:\n",
    "        Planetas.append(NuevosPlanetas)\n",
    "    NuevosPlanetas = input('Ingrese un planeta ')\n",
    "for Planetas in Planetas:\n",
    "    print(Planetas)"
   ]
  }
 ],
 "metadata": {
  "interpreter": {
   "hash": "54c855e4ed80c2c240ae63f894bb441b45fd58374e2d8b3f6f280112bc3d98f6"
  },
  "kernelspec": {
   "display_name": "Python 3.10.2 64-bit",
   "language": "python",
   "name": "python3"
  },
  "language_info": {
   "codemirror_mode": {
    "name": "ipython",
    "version": 3
   },
   "file_extension": ".py",
   "mimetype": "text/x-python",
   "name": "python",
   "nbconvert_exporter": "python",
   "pygments_lexer": "ipython3",
   "version": "3.10.2"
  },
  "orig_nbformat": 4
 },
 "nbformat": 4,
 "nbformat_minor": 2
}
