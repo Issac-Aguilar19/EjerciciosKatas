{
 "cells": [
  {
   "cell_type": "markdown",
   "metadata": {},
   "source": [
    "Ejercicio 1"
   ]
  },
  {
   "cell_type": "code",
   "execution_count": 5,
   "metadata": {},
   "outputs": [
    {
     "name": "stdout",
     "output_type": "stream",
     "text": [
      "Hay 7 planetas\n",
      "El ultimo planeta es Pluton\n"
     ]
    }
   ],
   "source": [
    "planets = ['Mercurio', 'Venus', 'Tierra', 'Marte', 'Jupiter', 'Saturno', 'Urano' 'Neptuno']\n",
    "print('Hay', len(planets), 'planetas')\n",
    "\n",
    "planets.append('Pluton')\n",
    "print('El ultimo planeta es', planets[-1])"
   ]
  },
  {
   "cell_type": "markdown",
   "metadata": {},
   "source": [
    "Ejercicio 2"
   ]
  },
  {
   "cell_type": "code",
   "execution_count": 20,
   "metadata": {},
   "outputs": [
    {
     "name": "stdout",
     "output_type": "stream",
     "text": [
      "Planetas más cercanos al sol que Jupiter\n",
      "['Mercurio', 'Venus', 'Tierra', 'Marte']\n",
      "Planetas más alejados del sol que Jupiter\n",
      "Saturno\n"
     ]
    }
   ],
   "source": [
    "planets = ['Mercurio', 'Venus', 'Tierra', 'Marte', 'Jupiter', 'Saturno', 'Urano' 'Neptuno']\n",
    "planeta = input(\"Ingrese un planeta\")\n",
    "\n",
    "index = planets.index(planeta)\n",
    "print('Planetas más cercanos al sol que ' + planeta)\n",
    "print(planets[0:index])\n",
    "print('Planetas más alejados del sol que ' + planeta)\n",
    "print(planets[index + 1])\n"
   ]
  }
 ],
 "metadata": {
  "interpreter": {
   "hash": "54c855e4ed80c2c240ae63f894bb441b45fd58374e2d8b3f6f280112bc3d98f6"
  },
  "kernelspec": {
   "display_name": "Python 3.10.2 64-bit",
   "language": "python",
   "name": "python3"
  },
  "language_info": {
   "codemirror_mode": {
    "name": "ipython",
    "version": 3
   },
   "file_extension": ".py",
   "mimetype": "text/x-python",
   "name": "python",
   "nbconvert_exporter": "python",
   "pygments_lexer": "ipython3",
   "version": "3.10.2"
  },
  "orig_nbformat": 4
 },
 "nbformat": 4,
 "nbformat_minor": 2
}
